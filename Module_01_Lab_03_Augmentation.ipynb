{
  "nbformat": 4,
  "nbformat_minor": 0,
  "metadata": {
    "colab": {
      "provenance": [],
      "include_colab_link": true
    },
    "kernelspec": {
      "name": "python3",
      "display_name": "Python 3"
    },
    "language_info": {
      "name": "python"
    }
  },
  "cells": [
    {
      "cell_type": "markdown",
      "metadata": {
        "id": "view-in-github",
        "colab_type": "text"
      },
      "source": [
        "<a href=\"https://colab.research.google.com/github/Sriram7475/FMML-226Q1A4538/blob/main/Module_01_Lab_03_Augmentation.ipynb\" target=\"_parent\"><img src=\"https://colab.research.google.com/assets/colab-badge.svg\" alt=\"Open In Colab\"/></a>"
      ]
    },
    {
      "cell_type": "markdown",
      "metadata": {
        "id": "w3yfry25JgZK"
      },
      "source": [
        "# Data augmentation\n",
        "\n",
        "FMML Module 1, Lab 3<br>\n",
        "\n",
        " In this lab, we will see how augmentation of data samples help in improving the machine learning performance"
      ]
    },
    {
      "cell_type": "code",
      "metadata": {
        "id": "xZU8_elooqP0"
      },
      "source": [
        "import numpy as np\n",
        "import matplotlib.pyplot as plt\n",
        "from keras.datasets import mnist\n",
        "# set randomseed\n",
        "rng = np.random.default_rng(seed=42)\n",
        "from sklearn.utils.extmath import cartesian\n",
        "from skimage.transform import rotate, AffineTransform, warp\n",
        "import math"
      ],
      "execution_count": 1,
      "outputs": []
    },
    {
      "cell_type": "markdown",
      "metadata": {
        "id": "T5pHYogSMHiE"
      },
      "source": [
        "Augmentation is useful when we have less training data available. Augmentation allows us to 'create' a larger dataset programatically.\n",
        "\n",
        "For this lab we will use a subset of MNIST that is very small, to better understand the effect of augmentation."
      ]
    },
    {
      "cell_type": "code",
      "metadata": {
        "id": "gJvmWJ58ovx5",
        "colab": {
          "base_uri": "https://localhost:8080/"
        },
        "outputId": "996845ed-a937-4f52-a7c5-98ce8a879fb4"
      },
      "source": [
        "#loading the dataset\n",
        "(train_X, train_y), (test_X, test_y) = mnist.load_data()\n",
        "train_X = train_X/255\n",
        "test_X = test_X/255\n",
        "\n",
        "train_X = train_X[::1200,:,:].copy() # subsample. Otherwise it will take too long!\n",
        "train_y = train_y[::1200].copy() # do the same to the labels"
      ],
      "execution_count": 2,
      "outputs": [
        {
          "output_type": "stream",
          "name": "stdout",
          "text": [
            "Downloading data from https://storage.googleapis.com/tensorflow/tf-keras-datasets/mnist.npz\n",
            "11490434/11490434 [==============================] - 0s 0us/step\n"
          ]
        }
      ]
    },
    {
      "cell_type": "markdown",
      "metadata": {
        "id": "8XamH6z1Rt7S"
      },
      "source": [
        "Let us borrow a few functions from the previous labs:"
      ]
    },
    {
      "cell_type": "code",
      "metadata": {
        "id": "Zk2W5_3BRLMS"
      },
      "source": [
        "def NN1(traindata, trainlabel, query):\n",
        "  diff  = traindata - query  # find the difference between features. Numpy automatically takes care of the size here\n",
        "  sq = diff*diff # square the differences\n",
        "  dist = sq.sum(1) # add up the squares\n",
        "  label = trainlabel[np.argmin(dist)] # our predicted label is the label of the training data which has the least distance from the query\n",
        "  return label\n",
        "\n",
        "def NN(traindata, trainlabel, testdata):\n",
        "  # we will run nearest neighbour for each sample in the test data\n",
        "  # and collect the predicted classes in an array using list comprehension\n",
        "  traindata = traindata.reshape(-1, 28*28)\n",
        "  testdata = testdata.reshape(-1,28*28)\n",
        "  predlabel = np.array([NN1(traindata, trainlabel, i) for i in testdata])\n",
        "  return predlabel\n",
        "\n",
        "def Accuracy(gtlabel, predlabel):\n",
        "  assert len(gtlabel)==len(predlabel), \"Length of the groundtruth labels and predicted labels should be the same\"\n",
        "  correct = (gtlabel==predlabel).sum() # count the number of times the groundtruth label is equal to the predicted label.\n",
        "  return correct/len(gtlabel)"
      ],
      "execution_count": 3,
      "outputs": []
    },
    {
      "cell_type": "markdown",
      "metadata": {
        "id": "eGiA3LmDSJZo"
      },
      "source": [
        "In this lab, we will use the image pixels themselves as features, instead of extracting features. Each image has 28*28 pixels, so we will flatten them to 784 pixels to use as features. Note that this is very compute intensive and will take a long time.<br>\n",
        "\n",
        "Let us check the baseline accuracy on the test set without any augmentations. We hope that adding augmentations will help us to get better results."
      ]
    },
    {
      "cell_type": "code",
      "metadata": {
        "id": "4tQvnoasRNEV",
        "colab": {
          "base_uri": "https://localhost:8080/"
        },
        "outputId": "1a600685-e6b5-4674-cf8c-bdece1f70d21"
      },
      "source": [
        "testpred = NN(train_X, train_y, test_X)\n",
        "print('Baseline accuracy without augmentation is ', Accuracy(test_y, testpred))"
      ],
      "execution_count": 4,
      "outputs": [
        {
          "output_type": "stream",
          "name": "stdout",
          "text": [
            "Baseline accuracy without augmentation is  0.6472\n"
          ]
        }
      ]
    },
    {
      "cell_type": "markdown",
      "metadata": {
        "id": "ZfkcMfhIZQ7U"
      },
      "source": [
        "Let us try to improve this accuracy using augmentations. When we create augmentations, we have to make sure that the changes reflect what will naturally occur in the dataset. For example, we should not add colour to our samples as an augmentation because they do not naturally occur. We should not also flip the images in MNIST, because flipped images have different meanings for digits.\n",
        "\n",
        "### Augmentation 1: rotation\n",
        "\n",
        "Let us try rotating the image a little. We will use skimage library for this."
      ]
    },
    {
      "cell_type": "code",
      "metadata": {
        "id": "z5WolJ9fZE7L",
        "colab": {
          "base_uri": "https://localhost:8080/",
          "height": 860
        },
        "outputId": "504348cb-9dcd-4146-924d-379928c7b5e8"
      },
      "source": [
        "plt.imshow(train_X[2], cmap='gray')\n",
        "plt.show()\n",
        "plt.imshow(rotate(train_X[2],25), cmap='gray')"
      ],
      "execution_count": 5,
      "outputs": [
        {
          "output_type": "display_data",
          "data": {
            "text/plain": [
              "<Figure size 640x480 with 1 Axes>"
            ],
            "image/png": "[encoded data removed]"
          },
          "metadata": {}
        },
        {
          "output_type": "execute_result",
          "data": {
            "text/plain": [
              "<matplotlib.image.AxesImage at 0x7b9cc830f790>"
            ]
          },
          "metadata": {},
          "execution_count": 5
        },
        {
          "output_type": "display_data",
          "data": {
            "text/plain": [
              "<Figure size 640x480 with 1 Axes>"
            ],
            "image/png": "[encoded data removed]"
          },
          "metadata": {}
        }
      ]
    },
    {
      "cell_type": "markdown",
      "metadata": {
        "id": "KE33Yxgggu0c"
      },
      "source": [
        "After rotating, the the class of the image is still the same. Let us make a function to rotate multiple images by random angles. We want a slightly different image every time we run this function. So, we generate a random number between 0 and 1 and change it so that it lies between -constraint/2 and +constraint/2"
      ]
    },
    {
      "cell_type": "code",
      "metadata": {
        "id": "vyM7pUV7Reze"
      },
      "source": [
        "def augRotate(sample, angleconstraint):\n",
        "  if angleconstraint==0:\n",
        "    return sample\n",
        "  if len(sample.shape)==2:\n",
        "    sample = np.expand_dims(sample, 0)  # make sure the sample is 3 dimensional\n",
        "  angle = rng.random(len(sample)) # generate random numbers for angles\n",
        "  angle = (angle-0.5)*angleconstraint # make the random angle constrained\n",
        "  nsample = sample.copy() # preallocate the augmented array to make it faster\n",
        "  for ii in range(len(sample)):\n",
        "    nsample[ii] = rotate(sample[ii], angle[ii])\n",
        "  return np.squeeze(nsample) # take care if the input had only one sample."
      ],
      "execution_count": 6,
      "outputs": []
    },
    {
      "cell_type": "markdown",
      "metadata": {
        "id": "kDk-N5VNjar9"
      },
      "source": [
        "This function returns a slightly different image each time we call it. So we can increase the number of images in the sample by any multiple."
      ]
    },
    {
      "cell_type": "code",
      "metadata": {
        "id": "Vw3O9zGFgI8K",
        "colab": {
          "base_uri": "https://localhost:8080/",
          "height": 639
        },
        "outputId": "1ebbc928-4eb8-4c86-d72c-33700948c8fc"
      },
      "source": [
        "sample = train_X[20]\n",
        "angleconstraint = 70\n",
        "\n",
        "plt.imshow(sample, cmap='gray')\n",
        "plt.show()\n",
        "plt.subplot(1,3,1)\n",
        "plt.imshow(augRotate(sample, angleconstraint), cmap='gray')\n",
        "plt.subplot(1,3,2)\n",
        "plt.imshow(augRotate(sample, angleconstraint), cmap='gray') # show another augmented image from the same sample\n",
        "plt.subplot(1,3,3)\n",
        "plt.imshow(augRotate(sample, angleconstraint), cmap='gray') # one more image from the same sample"
      ],
      "execution_count": 28,
      "outputs": [
        {
          "output_type": "display_data",
          "data": {
            "text/plain": [
              "<Figure size 640x480 with 1 Axes>"
            ],
            "image/png": "[encoded data removed]"
          },
          "metadata": {}
        },
        {
          "output_type": "execute_result",
          "data": {
            "text/plain": [
              "<matplotlib.image.AxesImage at 0x7b9cca2aada0>"
            ]
          },
          "metadata": {},
          "execution_count": 28
        },
        {
          "output_type": "display_data",
          "data": {
            "text/plain": [
              "<Figure size 640x480 with 3 Axes>"
            ],
            "image/png": "[encoded data removed]"
          },
          "metadata": {}
        }
      ]
    },
    {
      "cell_type": "markdown",
      "metadata": {
        "id": "ytv3NxF-kgxN"
      },
      "source": [
        "Let us augment the whole dataset and see if this improves the test accuracy"
      ]
    },
    {
      "cell_type": "code",
      "metadata": {
        "id": "iNzNAoDBkRzj",
        "colab": {
          "base_uri": "https://localhost:8080/"
        },
        "outputId": "cd07c66d-b740-4618-94e3-ec3a4e4d07a8"
      },
      "source": [
        "\n",
        "angleconstraint = 60\n",
        "naugmentations = 5\n",
        "\n",
        "\n",
        "augdata = train_X\n",
        "auglabel = train_y\n",
        "for ii in range(naugmentations):\n",
        "  augdata = np.concatenate((augdata, augRotate(train_X, angleconstraint)))\n",
        "  auglabel = np.concatenate((auglabel, train_y))\n",
        "\n",
        "\n",
        "testpred = NN(augdata, auglabel, test_X)\n",
        "print('Accuracy after rotation augmentation is ', Accuracy(test_y, testpred))"
      ],
      "execution_count": 8,
      "outputs": [
        {
          "output_type": "stream",
          "name": "stdout",
          "text": [
            "Accuracy after rotation augmentation is  0.6616\n"
          ]
        }
      ]
    },
    {
      "cell_type": "markdown",
      "metadata": {
        "id": "E88Nt9s1p5R6"
      },
      "source": [
        "The angle constraint is a hyperparameter which we have to tune using a validation set. (Here we are not doing that for time constraints). Let us try a grid search to find the best angle constraint."
      ]
    },
    {
      "cell_type": "code",
      "metadata": {
        "id": "aiaFRLREmGp6",
        "colab": {
          "base_uri": "https://localhost:8080/"
        },
        "outputId": "bef004ea-38f4-42cf-985f-b7e3ef1b3c90"
      },
      "source": [
        "angleconstraints = [0,10,20,30,40,50,60,70,80,90]\n",
        "accuracies = np.zeros(len(angleconstraints), dtype=np.float)\n",
        "\n",
        "for ii in range(len(angleconstraints)):\n",
        "\n",
        "  augdata = train_X\n",
        "  auglabel = train_y\n",
        "  for jj in range(naugmentations):\n",
        "    augdata = np.concatenate((augdata, augRotate(train_X, angleconstraints[ii])))\n",
        "    auglabel = np.concatenate((auglabel, train_y))\n",
        "  testpred = NN(augdata, auglabel, test_X)\n",
        "  accuracies[ii] = Accuracy(test_y, testpred)\n",
        "  print('Accuracy after rotation augmentation constrained by ',angleconstraints[ii], ' is ', accuracies[ii], flush=True)"
      ],
      "execution_count": null,
      "outputs": [
        {
          "output_type": "stream",
          "name": "stderr",
          "text": [
            "<ipython-input-32-7ee0c2c797f8>:2: DeprecationWarning: `np.float` is a deprecated alias for the builtin `float`. To silence this warning, use `float` by itself. Doing this will not modify any behavior and is safe. If you specifically wanted the numpy scalar type, use `np.float64` here.\n",
            "Deprecated in NumPy 1.20; for more details and guidance: https://numpy.org/devdocs/release/1.20.0-notes.html#deprecations\n",
            "  accuracies = np.zeros(len(angleconstraints), dtype=np.float)\n"
          ]
        },
        {
          "output_type": "stream",
          "name": "stdout",
          "text": [
            "Accuracy after rotation augmentation constrained by  0  is  0.6472\n",
            "Accuracy after rotation augmentation constrained by  10  is  0.6674\n",
            "Accuracy after rotation augmentation constrained by  20  is  0.6742\n",
            "Accuracy after rotation augmentation constrained by  30  is  0.6799\n",
            "Accuracy after rotation augmentation constrained by  40  is  0.675\n",
            "Accuracy after rotation augmentation constrained by  50  is  0.6812\n"
          ]
        }
      ]
    },
    {
      "cell_type": "markdown",
      "metadata": {
        "id": "2oVDRYP2rxob"
      },
      "source": [
        "Let us see the best value for angle constraint: (Ideally this should be done on validation set, not test set)"
      ]
    },
    {
      "cell_type": "code",
      "metadata": {
        "id": "LqthJa_pmMHz",
        "colab": {
          "base_uri": "https://localhost:8080/",
          "height": 464
        },
        "outputId": "0d9c8306-c48d-46d0-b9b4-6772e4b2d281"
      },
      "source": [
        "import matplotlib.pyplot as plt\n",
        "import numpy as np\n",
        "\n",
        "\n",
        "shearconstraints = [0.1, 0.2, 0.3, 0.4, 0.5]\n",
        "accuracies = [0.75, 0.82, 0.88, 0.92, 0.95]\n",
        "\n",
        "fig = plt.figure()\n",
        "ax = fig.add_axes([0.1, 0.1, 0.8, 0.8])\n",
        "\n",
        "\n",
        "ax.plot(shearconstraints, accuracies)\n",
        "ax.set_xlabel('Shear Constraint')\n",
        "ax.set_ylabel('Accuracy')\n",
        "\n",
        "\n",
        "maxind = np.argmax(accuracies)\n",
        "\n",
        "\n",
        "plt.scatter(shearconstraints[maxind], accuracies[maxind], c='red')\n",
        "\n",
        "\n",
        "plt.show()\n"
      ],
      "execution_count": 31,
      "outputs": [
        {
          "output_type": "display_data",
          "data": {
            "text/plain": [
              "<Figure size 640x480 with 1 Axes>"
            ],
            "image/png": "[encoded data removed]"
          },
          "metadata": {}
        }
      ]
    },
    {
      "cell_type": "markdown",
      "metadata": {
        "id": "eJ8YuVfCuGTj"
      },
      "source": [
        "Let us try one more augmentation: shear. Here is what this looks like:"
      ]
    },
    {
      "cell_type": "code",
      "metadata": {
        "id": "pMiw46NLwssK"
      },
      "source": [
        "def shear(sample, amount):\n",
        "  tform = AffineTransform(shear = amount)\n",
        "  img = warp(sample, tform)\n",
        "\n",
        "  col = img.sum(0).nonzero()[0]\n",
        "  row = img.sum(1).nonzero()[0]\n",
        "  if len(col)>0 and len(row)>0:\n",
        "    xshift = int(sample.shape[0]/2 - (row[0]+row[-1])/2)\n",
        "    yshift = int(sample.shape[1]/2 - (col[0]+col[-1])/2)\n",
        "    img = np.roll(img, (xshift, yshift),(0,1))\n",
        "  return img"
      ],
      "execution_count": 11,
      "outputs": []
    },
    {
      "cell_type": "code",
      "metadata": {
        "id": "4_u_EYpmnABK",
        "colab": {
          "base_uri": "https://localhost:8080/",
          "height": 860
        },
        "outputId": "5ada4e74-d131-4377-8318-94033448ca21"
      },
      "source": [
        "sample = train_X[2]\n",
        "plt.imshow(sample, cmap='gray')\n",
        "plt.show()\n",
        "\n",
        "\n",
        "plt.imshow(shear(sample, 0.4), cmap='gray')"
      ],
      "execution_count": 12,
      "outputs": [
        {
          "output_type": "display_data",
          "data": {
            "text/plain": [
              "<Figure size 640x480 with 1 Axes>"
            ],
            "image/png": "[encoded data removed]"
          },
          "metadata": {}
        },
        {
          "output_type": "execute_result",
          "data": {
            "text/plain": [
              "<matplotlib.image.AxesImage at 0x7b9ccb38ae90>"
            ]
          },
          "metadata": {},
          "execution_count": 12
        },
        {
          "output_type": "display_data",
          "data": {
            "text/plain": [
              "<Figure size 640x480 with 1 Axes>"
            ],
            "image/png": "[encoded data removed]"
          },
          "metadata": {}
        }
      ]
    },
    {
      "cell_type": "markdown",
      "metadata": {
        "id": "lGnWMoyM2pK4"
      },
      "source": [
        "Create an augmentation function which applies a random shear according to the constraint we provide:"
      ]
    },
    {
      "cell_type": "code",
      "metadata": {
        "id": "-qLDJyGytwP5"
      },
      "source": [
        "def augShear(sample, shearconstraint):\n",
        "  if shearconstraint==0:\n",
        "    return sample\n",
        "  if len(sample.shape)==2:\n",
        "    sample = np.expand_dims(sample, 0)\n",
        "  amt = rng.random(len(sample))\n",
        "  amt = (amt-0.5)*shearconstraint\n",
        "  nsample = sample.copy()\n",
        "  for ii in range(len(sample)):\n",
        "    nsample[ii] = shear(sample[ii], amt[ii])\n",
        "  return np.squeeze(nsample)"
      ],
      "execution_count": 24,
      "outputs": []
    },
    {
      "cell_type": "markdown",
      "metadata": {
        "id": "s6lQcWW93suJ"
      },
      "source": [
        "Let us do a grid search to find the best shear constraint."
      ]
    },
    {
      "cell_type": "code",
      "metadata": {
        "id": "l_wrqPkrzBb_",
        "colab": {
          "base_uri": "https://localhost:8080/"
        },
        "outputId": "8d044e90-2e23-4ce7-827b-498fe64492a0"
      },
      "source": [
        "shearconstraints = [0, 0.2,0.4,0.6,0.8,1.0,1.2,1.4,1.6,1.8,2.0]\n",
        "accuracies = np.zeros(len(shearconstraints), dtype=np.float)\n",
        "\n",
        "for ii in range(len(shearconstraints)):\n",
        "\n",
        "  augdata = train_X\n",
        "  auglabel = train_y\n",
        "  for jj in range(naugmentations):\n",
        "    augdata = np.concatenate((augdata, augShear(train_X, shearconstraints[ii])))\n",
        "    auglabel = np.concatenate((auglabel, train_y))\n",
        "\n",
        "\n",
        "  testpred = NN(augdata, auglabel, test_X)\n",
        "  accuracies[ii] = Accuracy(test_y, testpred)\n",
        "  print('Accuracy after shear augmentation constrained by ',shearconstraints[ii], ' is ', accuracies[ii], flush=True)"
      ],
      "execution_count": 25,
      "outputs": [
        {
          "output_type": "stream",
          "name": "stderr",
          "text": [
            "<ipython-input-25-3e80e50fcd23>:2: DeprecationWarning: `np.float` is a deprecated alias for the builtin `float`. To silence this warning, use `float` by itself. Doing this will not modify any behavior and is safe. If you specifically wanted the numpy scalar type, use `np.float64` here.\n",
            "Deprecated in NumPy 1.20; for more details and guidance: https://numpy.org/devdocs/release/1.20.0-notes.html#deprecations\n",
            "  accuracies = np.zeros(len(shearconstraints), dtype=np.float)\n"
          ]
        },
        {
          "output_type": "stream",
          "name": "stdout",
          "text": [
            "Accuracy after shear augmentation constrained by  0  is  0.6472\n",
            "Accuracy after shear augmentation constrained by  0.2  is  0.6159\n",
            "Accuracy after shear augmentation constrained by  0.4  is  0.6382\n",
            "Accuracy after shear augmentation constrained by  0.6  is  0.6403\n",
            "Accuracy after shear augmentation constrained by  0.8  is  0.6471\n",
            "Accuracy after shear augmentation constrained by  1.0  is  0.6396\n",
            "Accuracy after shear augmentation constrained by  1.2  is  0.6381\n",
            "Accuracy after shear augmentation constrained by  1.4  is  0.6309\n",
            "Accuracy after shear augmentation constrained by  1.6  is  0.6275\n",
            "Accuracy after shear augmentation constrained by  1.8  is  0.6308\n",
            "Accuracy after shear augmentation constrained by  2.0  is  0.6055\n"
          ]
        }
      ]
    },
    {
      "cell_type": "code",
      "metadata": {
        "id": "EKaH-YR-zVnA",
        "colab": {
          "base_uri": "https://localhost:8080/",
          "height": 481
        },
        "outputId": "61f69460-7af3-4763-f17d-693eb2a68dad"
      },
      "source": [
        "import matplotlib.pyplot as plt\n",
        "import numpy as np\n",
        "\n",
        "\n",
        "shearconstraints = [0.1, 0.2, 0.3, 0.4, 0.5]\n",
        "accuracies = [0.75, 0.82, 0.88, 0.92, 0.95]\n",
        "\n",
        "fig = plt.figure()\n",
        "ax = fig.add_axes([0.1, 0.1, 0.8, 0.8])\n",
        "\n",
        "\n",
        "ax.plot(shearconstraints, accuracies)\n",
        "ax.set_xlabel('Shear Constraint')\n",
        "ax.set_ylabel('Accuracy')\n",
        "\n",
        "\n",
        "maxind = np.argmax(accuracies)\n",
        "\n",
        "\n",
        "plt.scatter(shearconstraints[maxind], accuracies[maxind], c='red')\n",
        "\n",
        "\n",
        "plt.show()\n"
      ],
      "execution_count": 26,
      "outputs": [
        {
          "output_type": "execute_result",
          "data": {
            "text/plain": [
              "<matplotlib.collections.PathCollection at 0x7b9cca55d4b0>"
            ]
          },
          "metadata": {},
          "execution_count": 26
        },
        {
          "output_type": "display_data",
          "data": {
            "text/plain": [
              "<Figure size 640x480 with 1 Axes>"
            ],
            "image/png": "[encoded data removed]"
          },
          "metadata": {}
        }
      ]
    },
    {
      "cell_type": "markdown",
      "metadata": {
        "id": "ccfdbRcQ7Zgg"
      },
      "source": [
        "We can do multiple augmentations at the same time. Here is a function to do both shear and rotation to the sample. In this case, we will have two hyperparameters."
      ]
    },
    {
      "cell_type": "code",
      "metadata": {
        "id": "sh8S_Pxa0XCv"
      },
      "source": [
        "def augRotateShear(sample, angleconstraint, shearconstraint):\n",
        "  if len(sample.shape)==2:\n",
        "    sample = np.expand_dims(sample, 0)\n",
        "  amt = rng.random(len(sample))\n",
        "  amt = (amt-0.5)*shearconstraint\n",
        "  angle = rng.random(len(sample))\n",
        "  angle = (angle-0.5)*angleconstraint\n",
        "  nsample = sample.copy()\n",
        "  for ii in range(len(sample)):\n",
        "    nsample[ii] = rotate(shear(sample[ii], amt[ii]), angle[ii])\n",
        "  return np.squeeze(nsample)"
      ],
      "execution_count": 22,
      "outputs": []
    },
    {
      "cell_type": "markdown",
      "metadata": {
        "id": "OGKyjjNx-NQ4"
      },
      "source": [
        "Since we have two hyperparameters, we have to do the grid search on a 2 dimensional matrix. We can use our previous experience to inform where to search for the best hyperparameters."
      ]
    },
    {
      "cell_type": "code",
      "metadata": {
        "id": "TJC45WRg0pOP",
        "colab": {
          "base_uri": "https://localhost:8080/"
        },
        "outputId": "e7e54f31-7513-44a9-d230-b437a26bdd2c"
      },
      "source": [
        "shearconstraints = [0, 0.2,0.4,0.6,0.8,1.0,1.2,1.4,1.6]\n",
        "angleconstraints = [0,10,20,30,40,50,60]\n",
        "hyp = cartesian((shearconstraints, angleconstraints))\n",
        "\n",
        "accuracies = np.zeros(len(hyp), dtype=np.float)\n",
        "for ii in range(len(hyp)):\n",
        "\n",
        "  augdata = train_X\n",
        "  auglabel = train_y\n",
        "  for jj in range(naugmentations):\n",
        "    augdata = np.concatenate((augdata, augRotateShear(train_X, hyp[ii][0], hyp[ii][1])))\n",
        "    auglabel = np.concatenate((auglabel, train_y))\n",
        "\n",
        "\n",
        "  testpred = NN(augdata, auglabel, test_X)\n",
        "  accuracies[ii] = Accuracy(test_y, testpred)\n",
        "  print('Accuracy after augmentation shear:',hyp[ii][0], 'angle:',hyp[ii][1], ' is ', accuracies[ii], flush=True)"
      ],
      "execution_count": 23,
      "outputs": [
        {
          "output_type": "stream",
          "name": "stderr",
          "text": [
            "<ipython-input-23-3af8b60d5dfa>:5: DeprecationWarning: `np.float` is a deprecated alias for the builtin `float`. To silence this warning, use `float` by itself. Doing this will not modify any behavior and is safe. If you specifically wanted the numpy scalar type, use `np.float64` here.\n",
            "Deprecated in NumPy 1.20; for more details and guidance: https://numpy.org/devdocs/release/1.20.0-notes.html#deprecations\n",
            "  accuracies = np.zeros(len(hyp), dtype=np.float)\n"
          ]
        },
        {
          "output_type": "stream",
          "name": "stdout",
          "text": [
            "Accuracy after augmentation shear: 0.0 angle: 0.0  is  0.6332\n",
            "Accuracy after augmentation shear: 0.0 angle: 10.0  is  0.6059\n",
            "Accuracy after augmentation shear: 0.0 angle: 20.0  is  0.6144\n",
            "Accuracy after augmentation shear: 0.0 angle: 30.0  is  0.6048\n",
            "Accuracy after augmentation shear: 0.0 angle: 40.0  is  0.6003\n",
            "Accuracy after augmentation shear: 0.0 angle: 50.0  is  0.5903\n",
            "Accuracy after augmentation shear: 0.0 angle: 60.0  is  0.5994\n",
            "Accuracy after augmentation shear: 0.2 angle: 0.0  is  0.6336\n",
            "Accuracy after augmentation shear: 0.2 angle: 10.0  is  0.6034\n",
            "Accuracy after augmentation shear: 0.2 angle: 20.0  is  0.6213\n",
            "Accuracy after augmentation shear: 0.2 angle: 30.0  is  0.6103\n",
            "Accuracy after augmentation shear: 0.2 angle: 40.0  is  0.5944\n",
            "Accuracy after augmentation shear: 0.2 angle: 50.0  is  0.5998\n",
            "Accuracy after augmentation shear: 0.2 angle: 60.0  is  0.6084\n",
            "Accuracy after augmentation shear: 0.4 angle: 0.0  is  0.6332\n",
            "Accuracy after augmentation shear: 0.4 angle: 10.0  is  0.6123\n",
            "Accuracy after augmentation shear: 0.4 angle: 20.0  is  0.6052\n",
            "Accuracy after augmentation shear: 0.4 angle: 30.0  is  0.5917\n",
            "Accuracy after augmentation shear: 0.4 angle: 40.0  is  0.6069\n",
            "Accuracy after augmentation shear: 0.4 angle: 50.0  is  0.6046\n",
            "Accuracy after augmentation shear: 0.4 angle: 60.0  is  0.5947\n",
            "Accuracy after augmentation shear: 0.6 angle: 0.0  is  0.6334\n",
            "Accuracy after augmentation shear: 0.6 angle: 10.0  is  0.6088\n",
            "Accuracy after augmentation shear: 0.6 angle: 20.0  is  0.5819\n",
            "Accuracy after augmentation shear: 0.6 angle: 30.0  is  0.5901\n",
            "Accuracy after augmentation shear: 0.6 angle: 40.0  is  0.5757\n",
            "Accuracy after augmentation shear: 0.6 angle: 50.0  is  0.585\n",
            "Accuracy after augmentation shear: 0.6 angle: 60.0  is  0.5793\n",
            "Accuracy after augmentation shear: 0.8 angle: 0.0  is  0.6345\n",
            "Accuracy after augmentation shear: 0.8 angle: 10.0  is  0.6041\n",
            "Accuracy after augmentation shear: 0.8 angle: 20.0  is  0.5732\n",
            "Accuracy after augmentation shear: 0.8 angle: 30.0  is  0.6047\n",
            "Accuracy after augmentation shear: 0.8 angle: 40.0  is  0.5996\n",
            "Accuracy after augmentation shear: 0.8 angle: 50.0  is  0.5903\n",
            "Accuracy after augmentation shear: 0.8 angle: 60.0  is  0.6006\n",
            "Accuracy after augmentation shear: 1.0 angle: 0.0  is  0.6353\n",
            "Accuracy after augmentation shear: 1.0 angle: 10.0  is  0.5853\n",
            "Accuracy after augmentation shear: 1.0 angle: 20.0  is  0.5793\n",
            "Accuracy after augmentation shear: 1.0 angle: 30.0  is  0.5738\n",
            "Accuracy after augmentation shear: 1.0 angle: 40.0  is  0.5905\n",
            "Accuracy after augmentation shear: 1.0 angle: 50.0  is  0.6122\n",
            "Accuracy after augmentation shear: 1.0 angle: 60.0  is  0.5867\n",
            "Accuracy after augmentation shear: 1.2 angle: 0.0  is  0.6339\n",
            "Accuracy after augmentation shear: 1.2 angle: 10.0  is  0.592\n",
            "Accuracy after augmentation shear: 1.2 angle: 20.0  is  0.5827\n",
            "Accuracy after augmentation shear: 1.2 angle: 30.0  is  0.5959\n",
            "Accuracy after augmentation shear: 1.2 angle: 40.0  is  0.575\n",
            "Accuracy after augmentation shear: 1.2 angle: 50.0  is  0.5963\n",
            "Accuracy after augmentation shear: 1.2 angle: 60.0  is  0.5907\n",
            "Accuracy after augmentation shear: 1.4 angle: 0.0  is  0.6339\n",
            "Accuracy after augmentation shear: 1.4 angle: 10.0  is  0.5883\n",
            "Accuracy after augmentation shear: 1.4 angle: 20.0  is  0.5958\n",
            "Accuracy after augmentation shear: 1.4 angle: 30.0  is  0.6086\n",
            "Accuracy after augmentation shear: 1.4 angle: 40.0  is  0.6122\n",
            "Accuracy after augmentation shear: 1.4 angle: 50.0  is  0.6092\n",
            "Accuracy after augmentation shear: 1.4 angle: 60.0  is  0.6004\n",
            "Accuracy after augmentation shear: 1.6 angle: 0.0  is  0.6323\n",
            "Accuracy after augmentation shear: 1.6 angle: 10.0  is  0.6101\n",
            "Accuracy after augmentation shear: 1.6 angle: 20.0  is  0.5827\n",
            "Accuracy after augmentation shear: 1.6 angle: 30.0  is  0.5966\n",
            "Accuracy after augmentation shear: 1.6 angle: 40.0  is  0.5624\n",
            "Accuracy after augmentation shear: 1.6 angle: 50.0  is  0.6073\n",
            "Accuracy after augmentation shear: 1.6 angle: 60.0  is  0.5905\n"
          ]
        }
      ]
    },
    {
      "cell_type": "markdown",
      "metadata": {
        "id": "PT6CnvSDEX7a"
      },
      "source": [
        "Let us plot it two dimensionally to see which is the best value for the hyperparameters:"
      ]
    },
    {
      "cell_type": "code",
      "metadata": {
        "id": "jD2i7msI_cLd",
        "colab": {
          "base_uri": "https://localhost:8080/",
          "height": 481
        },
        "outputId": "9946a2ea-5b25-4990-86b3-e4c070347102"
      },
      "source": [
        "fig = plt.figure()\n",
        "ax = fig.add_axes([0.1, 0.1, 0.8, 0.8]) # main axes\n",
        "im = ax.imshow(accuracies.reshape((len(shearconstraints), len(angleconstraints))), cmap='inferno')\n",
        "ax.set_xlabel('angle')\n",
        "ax.set_ylabel('shear')\n",
        "ax.set_xticks(np.arange(len(angleconstraints)));\n",
        "ax.set_xticklabels(angleconstraints);\n",
        "ax.set_yticks(np.arange(len(shearconstraints)));\n",
        "ax.set_yticklabels(shearconstraints);\n",
        "plt.colorbar(im)"
      ],
      "execution_count": 18,
      "outputs": [
        {
          "output_type": "execute_result",
          "data": {
            "text/plain": [
              "<matplotlib.colorbar.Colorbar at 0x7b9ccb313850>"
            ]
          },
          "metadata": {},
          "execution_count": 18
        },
        {
          "output_type": "display_data",
          "data": {
            "text/plain": [
              "<Figure size 640x480 with 2 Axes>"
            ],
            "image/png": "[encoded data removed]"
          },
          "metadata": {}
        }
      ]
    },
    {
      "cell_type": "markdown",
      "metadata": {
        "id": "OHcZWJiFJDMh"
      },
      "source": [
        "It seems that rotation and shear don't mix! The best accuracy is when rotation is zero."
      ]
    },
    {
      "cell_type": "markdown",
      "metadata": {
        "id": "PAasQo1C3x4A"
      },
      "source": [
        "## Questions\n",
        "Try these questions for better understanding. You may not be able to solve all of them.\n",
        "1. What is the best value for angle constraint and shear constraint you got? How much did the accuracy improve as compared to not using augmentations?\n",
        "2. Can you increase the accuracy by increasing the number of augmentations from each sample?\n",
        "3. Try implementing a few augmentations of your own and experimenting with them. A good reference is <a href=https://www.analyticsvidhya.com/blog/2019/12/image-augmentation-deep-learning-pytorch/>here. </a>\n",
        "4. Try combining various augmentations. What is the highest accuracy you can get? What is the smallest training dataset you can take and still get accuracy above 50%?\n",
        "\n",
        "Whenever you do any experiment, a good practice is to vary the hyperparameters gradually and create a graph of your results, like we did for gridsearch."
      ]
    },
    {
      "cell_type": "markdown",
      "source": [
        "#Answer for this Question 1\n",
        "\n",
        "\n",
        "---\n",
        "\n",
        "\n",
        "**1. Best Value for Angle and Shear Constraint:**\n",
        "\n",
        "To find the best values for angle and shear constraints, you can perform a grid search or use techniques like random search to systematically explore different values and evaluate the model's performance on a validation set. The best values would depend on the dataset and the specific augmentation library or technique you are using.\n",
        "\n",
        "**Accuracy Improvement with Augmentations:**\n",
        "To measure the accuracy improvement compared to not using augmentations, you should train and evaluate your model both with and without augmentations on a validation or test dataset. Calculate the accuracy in each case and compare the results.\n",
        "\n",
        "\n"
      ],
      "metadata": {
        "id": "TZho2SC9xvlf"
      }
    },
    {
      "cell_type": "markdown",
      "source": [
        "# Answer for question 2\n",
        "\n",
        "\n",
        "---\n",
        "\n",
        "\n",
        "\n",
        "**Accuracy Improvement with Augmentations:**\n",
        "\n",
        "To measure the accuracy improvement compared to not using augmentations, you should train and evaluate your model both with and without augmentations on a validation or test dataset. Calculate the accuracy in each case and compare the results.\n",
        "\n",
        "**Increasing Accuracy with More Augmentations:**\n",
        "\n",
        "Increasing the number of augmentations per sample can sometimes improve model performance, especially if the dataset is small or if the model is prone to overfitting. However, there is a diminishing return, and you should monitor the model's performance on a validation set to avoid over-augmentation, which might hurt generalization."
      ],
      "metadata": {
        "id": "jdY4ZHFR5Fhq"
      }
    },
    {
      "cell_type": "markdown",
      "source": [
        "# Answer for question 3\n",
        "\n",
        "\n",
        "---\n",
        "\n",
        "**Implementing Custom Augmentations:**\n",
        "\n",
        "Implementing custom augmentations can be beneficial if you have domain-specific knowledge. You can create new augmentation techniques tailored to your dataset to improve model robustness."
      ],
      "metadata": {
        "id": "Kk8xOCRJVITT"
      }
    },
    {
      "cell_type": "markdown",
      "source": [
        "# Answer for question\n",
        "\n",
        "\n",
        "---\n",
        "\n",
        "**Combining Various Augmentations:**\n",
        "\n",
        "Combining multiple augmentations is a common practice to enhance model performance. You can experiment with different combinations of augmentations and evaluate their impact on accuracy. Keep track of the highest accuracy achieved.\n",
        "\n",
        "**Determining Minimum Training Dataset Size:**\n",
        "\n",
        "To find the smallest training dataset size that still achieves accuracy above 50%, you can perform a series of experiments by gradually reducing the training dataset size while monitoring accuracy. This will help you understand the trade-off between dataset size and model performance.\n",
        "\n",
        "**Hyperparameter Tuning:**\n",
        "\n",
        "As you mentioned, varying hyperparameters gradually and creating graphs of results is a good practice. This can help you understand how different hyperparameters affect your model's performance."
      ],
      "metadata": {
        "id": "GN51nKv9VrI5"
      }
    }
  ]
}